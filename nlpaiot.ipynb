{
 "cells": [
  {
   "cell_type": "markdown",
   "metadata": {},
   "source": [
    "# Libraries"
   ]
  },
  {
   "cell_type": "code",
   "execution_count": 2,
   "metadata": {},
   "outputs": [],
   "source": [
    "import numpy as np\n",
    "import pandas as pd\n",
    "from textblob import TextBlob\n",
    "import matplotlib.pyplot as plt\n",
    "import seaborn as sns\n",
    "from scipy.stats import ttest_ind"
   ]
  },
  {
   "cell_type": "code",
   "execution_count": 3,
   "metadata": {},
   "outputs": [],
   "source": [
    "import warnings\n",
    "warnings.simplefilter(action='ignore', category=FutureWarning)"
   ]
  },
  {
   "cell_type": "markdown",
   "metadata": {},
   "source": [
    "# Load Data "
   ]
  },
  {
   "cell_type": "code",
   "execution_count": 4,
   "metadata": {},
   "outputs": [],
   "source": [
    "rahul = pd.read_csv('rahul_reviews.csv')\n",
    "modi = pd.read_csv('modi_reviews.csv')"
   ]
  },
  {
   "cell_type": "code",
   "execution_count": 5,
   "metadata": {},
   "outputs": [
    {
     "data": {
      "text/plain": [
       "(25688, 3)"
      ]
     },
     "execution_count": 5,
     "metadata": {},
     "output_type": "execute_result"
    }
   ],
   "source": [
    "modi.shape"
   ]
  },
  {
   "cell_type": "code",
   "execution_count": 6,
   "metadata": {},
   "outputs": [
    {
     "data": {
      "text/plain": [
       "(14261, 3)"
      ]
     },
     "execution_count": 6,
     "metadata": {},
     "output_type": "execute_result"
    }
   ],
   "source": [
    "rahul.shape"
   ]
  },
  {
   "cell_type": "markdown",
   "metadata": {},
   "source": [
    "# Sentiment Analysis"
   ]
  },
  {
   "cell_type": "code",
   "execution_count": 7,
   "metadata": {
    "scrolled": true
   },
   "outputs": [
    {
     "data": {
      "text/plain": [
       "0        Wonder why no academic or journalist asks INC ...\n",
       "1        Congrats for the change #australiavotes2019 an...\n",
       "2        Peopel Say “Govt Ne 70 Years Kya kiya”.\\nUnse ...\n",
       "3        @ajaymaken @RahulGandhi And as a final touch, ...\n",
       "4        #LokSabhaElections2019 Anyone not having mass ...\n",
       "                               ...                        \n",
       "14256    @quizzicalguy In this #LokSabhaElections2019, ...\n",
       "14257    @AnumaVidisha @RahulGandhi @ArvindKejriwal whe...\n",
       "14258    @sherryontopp Early morning #political move af...\n",
       "14259    @mayankgandhi04 @mallesh_2004 Early morning #p...\n",
       "14260    @DrKumarVishwas Early morning #political move ...\n",
       "Name: Tweet, Length: 14261, dtype: object"
      ]
     },
     "execution_count": 7,
     "metadata": {},
     "output_type": "execute_result"
    }
   ],
   "source": [
    "rahul['Tweet']"
   ]
  },
  {
   "cell_type": "code",
   "execution_count": 8,
   "metadata": {},
   "outputs": [
    {
     "data": {
      "text/plain": [
       "0        @anjanaomkashyap I am seeing you as future #bj...\n",
       "1        #LokSabhaElections2019 \\n23rd May 2019 will re...\n",
       "2        #LokSabhaElections2019 \\n23rd May 2019 will re...\n",
       "3        PM Modi creates a new record of being the only...\n",
       "4        @abhijitmajumder Appointment of Successor! \\n\\...\n",
       "                               ...                        \n",
       "25683    #1DDrive #ModiSpeaksToNews18 #LokSabhaElection...\n",
       "25684    I am seriously worried about future of Indian ...\n",
       "25685    If @narendramodi is so Bad then Why does @INCI...\n",
       "25686    On this 23rd March (Pakistan Day), I Urge all ...\n",
       "25687    @timesofindia #ArvindKejriwal, #AAP sirji pls ...\n",
       "Name: Tweet, Length: 25688, dtype: object"
      ]
     },
     "execution_count": 8,
     "metadata": {},
     "output_type": "execute_result"
    }
   ],
   "source": [
    "modi['Tweet']"
   ]
  },
  {
   "cell_type": "code",
   "execution_count": 9,
   "metadata": {},
   "outputs": [
    {
     "data": {
      "text/plain": [
       "'Wonder why no academic or journalist asks INC India and Rahul Gandhi a simple question-what danger was there to the original constitution that they changed it more than 100 times in the course of 55 yrs they ruled? #LokSabhaElections2019'"
      ]
     },
     "execution_count": 9,
     "metadata": {},
     "output_type": "execute_result"
    }
   ],
   "source": [
    "rahul['Tweet'][0]"
   ]
  },
  {
   "cell_type": "code",
   "execution_count": 10,
   "metadata": {},
   "outputs": [
    {
     "data": {
      "text/plain": [
       "Sentiment(polarity=0.21875, subjectivity=0.4017857142857143)"
      ]
     },
     "execution_count": 10,
     "metadata": {},
     "output_type": "execute_result"
    }
   ],
   "source": [
    "TextBlob(rahul['Tweet'][0]).sentiment"
   ]
  },
  {
   "cell_type": "code",
   "execution_count": 11,
   "metadata": {},
   "outputs": [
    {
     "data": {
      "text/plain": [
       "'#BJP was renamed as Safroon Party then again it was named as Modi Party.\\n\\ncould any body guess what will be next name of the party...\\n\\n@asadowaisi @warispathan @syedasimwaqar @aimim_national @shaukat_aimim \\n#ModiHaiTohGodseHai #ModiInKedarnath #KejriwalAssassinationClaim'"
      ]
     },
     "execution_count": 11,
     "metadata": {},
     "output_type": "execute_result"
    }
   ],
   "source": [
    "modi['Tweet'][10]"
   ]
  },
  {
   "cell_type": "code",
   "execution_count": 12,
   "metadata": {},
   "outputs": [
    {
     "data": {
      "text/plain": [
       "Sentiment(polarity=0.0, subjectivity=0.0)"
      ]
     },
     "execution_count": 12,
     "metadata": {},
     "output_type": "execute_result"
    }
   ],
   "source": [
    "TextBlob(modi['Tweet'][10]).sentiment"
   ]
  },
  {
   "cell_type": "code",
   "execution_count": 13,
   "metadata": {},
   "outputs": [
    {
     "data": {
      "text/plain": [
       "'@IYCTelangana @IncBasavakalyan @narendramodi @IYC @INCIndia @RahulGandhi @priyankagandhi @HardikPatel_ @Allavaru @keshavyadaviyc @srinivasiyc @srivatsayb @RakshaRamaiah @JM_Scindia This is called in #BJP language,\\n\"A Swatch &amp; Swasth Hindutva\" !!! This theory not applicable to any other person, except #BJPians! \\nQuestion: Demonic possession of !!!!'"
      ]
     },
     "execution_count": 13,
     "metadata": {},
     "output_type": "execute_result"
    }
   ],
   "source": [
    "rahul['Tweet'][10]"
   ]
  },
  {
   "cell_type": "code",
   "execution_count": 14,
   "metadata": {},
   "outputs": [
    {
     "data": {
      "text/plain": [
       "Sentiment(polarity=-0.3814697265625, subjectivity=0.375)"
      ]
     },
     "execution_count": 14,
     "metadata": {},
     "output_type": "execute_result"
    }
   ],
   "source": [
    "TextBlob(rahul['Tweet'][10]).sentiment"
   ]
  },
  {
   "cell_type": "markdown",
   "metadata": {},
   "source": [
    "# Sentiment Polarity"
   ]
  },
  {
   "cell_type": "code",
   "execution_count": 15,
   "metadata": {},
   "outputs": [
    {
     "name": "stdout",
     "output_type": "stream",
     "text": [
      "<class 'pandas.core.frame.DataFrame'>\n",
      "RangeIndex: 25688 entries, 0 to 25687\n",
      "Data columns (total 3 columns):\n",
      " #   Column      Non-Null Count  Dtype \n",
      "---  ------      --------------  ----- \n",
      " 0   Unnamed: 0  25688 non-null  int64 \n",
      " 1   User        25683 non-null  object\n",
      " 2   Tweet       25683 non-null  object\n",
      "dtypes: int64(1), object(2)\n",
      "memory usage: 602.2+ KB\n",
      "<class 'pandas.core.frame.DataFrame'>\n",
      "RangeIndex: 14261 entries, 0 to 14260\n",
      "Data columns (total 3 columns):\n",
      " #   Column      Non-Null Count  Dtype \n",
      "---  ------      --------------  ----- \n",
      " 0   Unnamed: 0  14261 non-null  int64 \n",
      " 1   User        14261 non-null  object\n",
      " 2   Tweet       14261 non-null  object\n",
      "dtypes: int64(1), object(2)\n",
      "memory usage: 334.4+ KB\n"
     ]
    }
   ],
   "source": [
    "modi.info()\n",
    "rahul.info() "
   ]
  },
  {
   "cell_type": "code",
   "execution_count": 16,
   "metadata": {},
   "outputs": [],
   "source": [
    "modi['Tweet'] = modi['Tweet'].astype(str)\n",
    "rahul['Tweet'] = rahul['Tweet'].astype(str)"
   ]
  },
  {
   "cell_type": "code",
   "execution_count": 17,
   "metadata": {},
   "outputs": [],
   "source": [
    "def find_polarity(review):\n",
    "    return TextBlob(review).sentiment.polarity"
   ]
  },
  {
   "cell_type": "code",
   "execution_count": 18,
   "metadata": {},
   "outputs": [
    {
     "data": {
      "text/plain": [
       "0.2857142857142857"
      ]
     },
     "execution_count": 18,
     "metadata": {},
     "output_type": "execute_result"
    }
   ],
   "source": [
    "find_polarity('My Phd is going in the right direction')"
   ]
  },
  {
   "cell_type": "code",
   "execution_count": 19,
   "metadata": {},
   "outputs": [
    {
     "data": {
      "text/plain": [
       "-0.5"
      ]
     },
     "execution_count": 19,
     "metadata": {},
     "output_type": "execute_result"
    }
   ],
   "source": [
    "find_polarity('phd is the wrong way to go')"
   ]
  },
  {
   "cell_type": "code",
   "execution_count": 20,
   "metadata": {},
   "outputs": [
    {
     "data": {
      "text/plain": [
       "0        0.350000\n",
       "1        0.800000\n",
       "2        0.800000\n",
       "3        0.312121\n",
       "4        0.098788\n",
       "           ...   \n",
       "25683    0.000000\n",
       "25684    0.209524\n",
       "25685   -0.700000\n",
       "25686    0.000000\n",
       "25687   -0.213542\n",
       "Name: Tweet, Length: 25688, dtype: float64"
      ]
     },
     "execution_count": 20,
     "metadata": {},
     "output_type": "execute_result"
    }
   ],
   "source": [
    "modi['Tweet'].apply(find_polarity)"
   ]
  },
  {
   "cell_type": "code",
   "execution_count": 21,
   "metadata": {},
   "outputs": [
    {
     "data": {
      "text/plain": [
       "0        0.218750\n",
       "1        0.000000\n",
       "2        0.000000\n",
       "3        0.320000\n",
       "4       -0.166667\n",
       "           ...   \n",
       "14256    0.000000\n",
       "14257   -0.500000\n",
       "14258    0.080000\n",
       "14259    0.080000\n",
       "14260    0.080000\n",
       "Name: Tweet, Length: 14261, dtype: float64"
      ]
     },
     "execution_count": 21,
     "metadata": {},
     "output_type": "execute_result"
    }
   ],
   "source": [
    "rahul['Tweet'].apply(find_polarity)"
   ]
  },
  {
   "cell_type": "code",
   "execution_count": 22,
   "metadata": {},
   "outputs": [],
   "source": [
    "modi['Polarity'] = modi['Tweet'].apply(find_polarity)\n",
    "rahul['Polarity'] = rahul['Tweet'].apply(find_polarity)"
   ]
  },
  {
   "cell_type": "code",
   "execution_count": 23,
   "metadata": {},
   "outputs": [
    {
     "data": {
      "text/html": [
       "<div>\n",
       "<style scoped>\n",
       "    .dataframe tbody tr th:only-of-type {\n",
       "        vertical-align: middle;\n",
       "    }\n",
       "\n",
       "    .dataframe tbody tr th {\n",
       "        vertical-align: top;\n",
       "    }\n",
       "\n",
       "    .dataframe thead th {\n",
       "        text-align: right;\n",
       "    }\n",
       "</style>\n",
       "<table border=\"1\" class=\"dataframe\">\n",
       "  <thead>\n",
       "    <tr style=\"text-align: right;\">\n",
       "      <th></th>\n",
       "      <th>Unnamed: 0</th>\n",
       "      <th>User</th>\n",
       "      <th>Tweet</th>\n",
       "      <th>Polarity</th>\n",
       "    </tr>\n",
       "  </thead>\n",
       "  <tbody>\n",
       "    <tr>\n",
       "      <th>0</th>\n",
       "      <td>0</td>\n",
       "      <td>advosushildixit</td>\n",
       "      <td>@anjanaomkashyap I am seeing you as future #bj...</td>\n",
       "      <td>0.350000</td>\n",
       "    </tr>\n",
       "    <tr>\n",
       "      <th>1</th>\n",
       "      <td>1</td>\n",
       "      <td>jiaeur</td>\n",
       "      <td>#LokSabhaElections2019 \\n23rd May 2019 will re...</td>\n",
       "      <td>0.800000</td>\n",
       "    </tr>\n",
       "    <tr>\n",
       "      <th>2</th>\n",
       "      <td>2</td>\n",
       "      <td>PVenkatGandhi</td>\n",
       "      <td>#LokSabhaElections2019 \\n23rd May 2019 will re...</td>\n",
       "      <td>0.800000</td>\n",
       "    </tr>\n",
       "    <tr>\n",
       "      <th>3</th>\n",
       "      <td>3</td>\n",
       "      <td>TheNirbhay1</td>\n",
       "      <td>PM Modi creates a new record of being the only...</td>\n",
       "      <td>0.312121</td>\n",
       "    </tr>\n",
       "    <tr>\n",
       "      <th>4</th>\n",
       "      <td>4</td>\n",
       "      <td>ShakeChilli</td>\n",
       "      <td>@abhijitmajumder Appointment of Successor! \\n\\...</td>\n",
       "      <td>0.098788</td>\n",
       "    </tr>\n",
       "  </tbody>\n",
       "</table>\n",
       "</div>"
      ],
      "text/plain": [
       "   Unnamed: 0             User  \\\n",
       "0           0  advosushildixit   \n",
       "1           1           jiaeur   \n",
       "2           2    PVenkatGandhi   \n",
       "3           3      TheNirbhay1   \n",
       "4           4      ShakeChilli   \n",
       "\n",
       "                                               Tweet  Polarity  \n",
       "0  @anjanaomkashyap I am seeing you as future #bj...  0.350000  \n",
       "1  #LokSabhaElections2019 \\n23rd May 2019 will re...  0.800000  \n",
       "2  #LokSabhaElections2019 \\n23rd May 2019 will re...  0.800000  \n",
       "3  PM Modi creates a new record of being the only...  0.312121  \n",
       "4  @abhijitmajumder Appointment of Successor! \\n\\...  0.098788  "
      ]
     },
     "execution_count": 23,
     "metadata": {},
     "output_type": "execute_result"
    }
   ],
   "source": [
    "modi.head()"
   ]
  },
  {
   "cell_type": "code",
   "execution_count": 24,
   "metadata": {},
   "outputs": [
    {
     "data": {
      "text/html": [
       "<div>\n",
       "<style scoped>\n",
       "    .dataframe tbody tr th:only-of-type {\n",
       "        vertical-align: middle;\n",
       "    }\n",
       "\n",
       "    .dataframe tbody tr th {\n",
       "        vertical-align: top;\n",
       "    }\n",
       "\n",
       "    .dataframe thead th {\n",
       "        text-align: right;\n",
       "    }\n",
       "</style>\n",
       "<table border=\"1\" class=\"dataframe\">\n",
       "  <thead>\n",
       "    <tr style=\"text-align: right;\">\n",
       "      <th></th>\n",
       "      <th>Unnamed: 0</th>\n",
       "      <th>User</th>\n",
       "      <th>Tweet</th>\n",
       "      <th>Polarity</th>\n",
       "    </tr>\n",
       "  </thead>\n",
       "  <tbody>\n",
       "    <tr>\n",
       "      <th>0</th>\n",
       "      <td>0</td>\n",
       "      <td>Sunnysweet16</td>\n",
       "      <td>Wonder why no academic or journalist asks INC ...</td>\n",
       "      <td>0.218750</td>\n",
       "    </tr>\n",
       "    <tr>\n",
       "      <th>1</th>\n",
       "      <td>1</td>\n",
       "      <td>drnitinchaube</td>\n",
       "      <td>Congrats for the change #australiavotes2019 an...</td>\n",
       "      <td>0.000000</td>\n",
       "    </tr>\n",
       "    <tr>\n",
       "      <th>2</th>\n",
       "      <td>2</td>\n",
       "      <td>mrvivek07</td>\n",
       "      <td>Peopel Say “Govt Ne 70 Years Kya kiya”.\\nUnse ...</td>\n",
       "      <td>0.000000</td>\n",
       "    </tr>\n",
       "    <tr>\n",
       "      <th>3</th>\n",
       "      <td>3</td>\n",
       "      <td>JosephPravinP</td>\n",
       "      <td>@ajaymaken @RahulGandhi And as a final touch, ...</td>\n",
       "      <td>0.320000</td>\n",
       "    </tr>\n",
       "    <tr>\n",
       "      <th>4</th>\n",
       "      <td>4</td>\n",
       "      <td>VandanaMegastar</td>\n",
       "      <td>#LokSabhaElections2019 Anyone not having mass ...</td>\n",
       "      <td>-0.166667</td>\n",
       "    </tr>\n",
       "    <tr>\n",
       "      <th>5</th>\n",
       "      <td>5</td>\n",
       "      <td>RGspeak</td>\n",
       "      <td>@INCIndia should release a video of @RahulGand...</td>\n",
       "      <td>0.400000</td>\n",
       "    </tr>\n",
       "    <tr>\n",
       "      <th>6</th>\n",
       "      <td>6</td>\n",
       "      <td>SandipGhose</td>\n",
       "      <td>@thakkar_sameet @BDUTT @surjitbhalla 4/n smack...</td>\n",
       "      <td>0.000000</td>\n",
       "    </tr>\n",
       "    <tr>\n",
       "      <th>7</th>\n",
       "      <td>7</td>\n",
       "      <td>__Shivampandey</td>\n",
       "      <td>Rahul Gandhi Spotted in Switzerland, 1 hour ag...</td>\n",
       "      <td>0.350000</td>\n",
       "    </tr>\n",
       "    <tr>\n",
       "      <th>8</th>\n",
       "      <td>8</td>\n",
       "      <td>usman_majid1</td>\n",
       "      <td>BJP will be nowhere in India after May 23. BJP...</td>\n",
       "      <td>0.000000</td>\n",
       "    </tr>\n",
       "  </tbody>\n",
       "</table>\n",
       "</div>"
      ],
      "text/plain": [
       "   Unnamed: 0             User  \\\n",
       "0           0     Sunnysweet16   \n",
       "1           1    drnitinchaube   \n",
       "2           2        mrvivek07   \n",
       "3           3    JosephPravinP   \n",
       "4           4  VandanaMegastar   \n",
       "5           5          RGspeak   \n",
       "6           6      SandipGhose   \n",
       "7           7   __Shivampandey   \n",
       "8           8     usman_majid1   \n",
       "\n",
       "                                               Tweet  Polarity  \n",
       "0  Wonder why no academic or journalist asks INC ...  0.218750  \n",
       "1  Congrats for the change #australiavotes2019 an...  0.000000  \n",
       "2  Peopel Say “Govt Ne 70 Years Kya kiya”.\\nUnse ...  0.000000  \n",
       "3  @ajaymaken @RahulGandhi And as a final touch, ...  0.320000  \n",
       "4  #LokSabhaElections2019 Anyone not having mass ... -0.166667  \n",
       "5  @INCIndia should release a video of @RahulGand...  0.400000  \n",
       "6  @thakkar_sameet @BDUTT @surjitbhalla 4/n smack...  0.000000  \n",
       "7  Rahul Gandhi Spotted in Switzerland, 1 hour ag...  0.350000  \n",
       "8  BJP will be nowhere in India after May 23. BJP...  0.000000  "
      ]
     },
     "execution_count": 24,
     "metadata": {},
     "output_type": "execute_result"
    }
   ],
   "source": [
    "rahul.head(9)"
   ]
  },
  {
   "cell_type": "code",
   "execution_count": 25,
   "metadata": {},
   "outputs": [],
   "source": [
    "# Modi\n",
    "\n",
    "modi['Label'] = np.where(modi['Polarity']>0, '+ve', '-ve')\n",
    "modi.loc[modi['Polarity'] == 0, 'Label'] = '0'\n"
   ]
  },
  {
   "cell_type": "code",
   "execution_count": 26,
   "metadata": {},
   "outputs": [],
   "source": [
    "# Rahul\n",
    "\n",
    "rahul['Label'] = np.where(rahul['Polarity']>0, '+ve', '-ve')\n",
    "rahul.loc[rahul['Polarity']==0, 'Label'] = '0'"
   ]
  },
  {
   "cell_type": "code",
   "execution_count": 27,
   "metadata": {},
   "outputs": [
    {
     "data": {
      "text/html": [
       "<div>\n",
       "<style scoped>\n",
       "    .dataframe tbody tr th:only-of-type {\n",
       "        vertical-align: middle;\n",
       "    }\n",
       "\n",
       "    .dataframe tbody tr th {\n",
       "        vertical-align: top;\n",
       "    }\n",
       "\n",
       "    .dataframe thead th {\n",
       "        text-align: right;\n",
       "    }\n",
       "</style>\n",
       "<table border=\"1\" class=\"dataframe\">\n",
       "  <thead>\n",
       "    <tr style=\"text-align: right;\">\n",
       "      <th></th>\n",
       "      <th>Unnamed: 0</th>\n",
       "      <th>User</th>\n",
       "      <th>Tweet</th>\n",
       "      <th>Polarity</th>\n",
       "      <th>Label</th>\n",
       "    </tr>\n",
       "  </thead>\n",
       "  <tbody>\n",
       "    <tr>\n",
       "      <th>0</th>\n",
       "      <td>0</td>\n",
       "      <td>advosushildixit</td>\n",
       "      <td>@anjanaomkashyap I am seeing you as future #bj...</td>\n",
       "      <td>0.350000</td>\n",
       "      <td>+ve</td>\n",
       "    </tr>\n",
       "    <tr>\n",
       "      <th>1</th>\n",
       "      <td>1</td>\n",
       "      <td>jiaeur</td>\n",
       "      <td>#LokSabhaElections2019 \\n23rd May 2019 will re...</td>\n",
       "      <td>0.800000</td>\n",
       "      <td>+ve</td>\n",
       "    </tr>\n",
       "    <tr>\n",
       "      <th>2</th>\n",
       "      <td>2</td>\n",
       "      <td>PVenkatGandhi</td>\n",
       "      <td>#LokSabhaElections2019 \\n23rd May 2019 will re...</td>\n",
       "      <td>0.800000</td>\n",
       "      <td>+ve</td>\n",
       "    </tr>\n",
       "    <tr>\n",
       "      <th>3</th>\n",
       "      <td>3</td>\n",
       "      <td>TheNirbhay1</td>\n",
       "      <td>PM Modi creates a new record of being the only...</td>\n",
       "      <td>0.312121</td>\n",
       "      <td>+ve</td>\n",
       "    </tr>\n",
       "    <tr>\n",
       "      <th>4</th>\n",
       "      <td>4</td>\n",
       "      <td>ShakeChilli</td>\n",
       "      <td>@abhijitmajumder Appointment of Successor! \\n\\...</td>\n",
       "      <td>0.098788</td>\n",
       "      <td>+ve</td>\n",
       "    </tr>\n",
       "    <tr>\n",
       "      <th>5</th>\n",
       "      <td>5</td>\n",
       "      <td>UttarrPradesh</td>\n",
       "      <td>Which of the following should be top priority ...</td>\n",
       "      <td>0.250000</td>\n",
       "      <td>+ve</td>\n",
       "    </tr>\n",
       "    <tr>\n",
       "      <th>6</th>\n",
       "      <td>6</td>\n",
       "      <td>Mdsr20351488</td>\n",
       "      <td>After 5yrs of Modi 🙁\\n\\n-SC vs SC\\n-EC vs EC\\n...</td>\n",
       "      <td>0.000000</td>\n",
       "      <td>0</td>\n",
       "    </tr>\n",
       "    <tr>\n",
       "      <th>7</th>\n",
       "      <td>7</td>\n",
       "      <td>ShaileshWrites</td>\n",
       "      <td>@RenukaJain6\\nI still remember your video mass...</td>\n",
       "      <td>-0.500000</td>\n",
       "      <td>-ve</td>\n",
       "    </tr>\n",
       "    <tr>\n",
       "      <th>8</th>\n",
       "      <td>8</td>\n",
       "      <td>iamljp</td>\n",
       "      <td>#bjp @BJP4India @INCIndia @INCKarnataka how mu...</td>\n",
       "      <td>-0.342857</td>\n",
       "      <td>-ve</td>\n",
       "    </tr>\n",
       "    <tr>\n",
       "      <th>9</th>\n",
       "      <td>9</td>\n",
       "      <td>TheShobhitAzad</td>\n",
       "      <td>#AzadPrediction\\n#LokSabhaElections2019 \\n\\nBJ...</td>\n",
       "      <td>0.000000</td>\n",
       "      <td>0</td>\n",
       "    </tr>\n",
       "    <tr>\n",
       "      <th>10</th>\n",
       "      <td>10</td>\n",
       "      <td>sheikh541</td>\n",
       "      <td>#BJP was renamed as Safroon Party then again i...</td>\n",
       "      <td>0.000000</td>\n",
       "      <td>0</td>\n",
       "    </tr>\n",
       "    <tr>\n",
       "      <th>11</th>\n",
       "      <td>11</td>\n",
       "      <td>Mdsr20351488</td>\n",
       "      <td>All Pakistanis had serious doubts on concept o...</td>\n",
       "      <td>0.222222</td>\n",
       "      <td>+ve</td>\n",
       "    </tr>\n",
       "    <tr>\n",
       "      <th>12</th>\n",
       "      <td>12</td>\n",
       "      <td>JosephPravinP</td>\n",
       "      <td>@ajaymaken @RahulGandhi And as a final touch, ...</td>\n",
       "      <td>0.320000</td>\n",
       "      <td>+ve</td>\n",
       "    </tr>\n",
       "    <tr>\n",
       "      <th>13</th>\n",
       "      <td>13</td>\n",
       "      <td>TheSaptarshiRay</td>\n",
       "      <td>I think before casting the vote for  last phas...</td>\n",
       "      <td>0.233333</td>\n",
       "      <td>+ve</td>\n",
       "    </tr>\n",
       "    <tr>\n",
       "      <th>14</th>\n",
       "      <td>14</td>\n",
       "      <td>AshokeRattan</td>\n",
       "      <td>Trying to forge opposition will be a futile ex...</td>\n",
       "      <td>0.200000</td>\n",
       "      <td>+ve</td>\n",
       "    </tr>\n",
       "    <tr>\n",
       "      <th>15</th>\n",
       "      <td>15</td>\n",
       "      <td>VandanaMegastar</td>\n",
       "      <td>#LokSabhaElections2019 Anyone not having mass ...</td>\n",
       "      <td>-0.166667</td>\n",
       "      <td>-ve</td>\n",
       "    </tr>\n",
       "    <tr>\n",
       "      <th>16</th>\n",
       "      <td>16</td>\n",
       "      <td>Iqbal_Hussains</td>\n",
       "      <td>#ElectionCommission #LokSabhaElections2019 PM'...</td>\n",
       "      <td>0.183333</td>\n",
       "      <td>+ve</td>\n",
       "    </tr>\n",
       "    <tr>\n",
       "      <th>17</th>\n",
       "      <td>17</td>\n",
       "      <td>RGspeak</td>\n",
       "      <td>@INCIndia should release a video of @RahulGand...</td>\n",
       "      <td>0.400000</td>\n",
       "      <td>+ve</td>\n",
       "    </tr>\n",
       "    <tr>\n",
       "      <th>18</th>\n",
       "      <td>18</td>\n",
       "      <td>nirajkushwa</td>\n",
       "      <td>@KajalChauhan_ @dashingassu Our PM ( Modi ji) ...</td>\n",
       "      <td>-0.333333</td>\n",
       "      <td>-ve</td>\n",
       "    </tr>\n",
       "    <tr>\n",
       "      <th>19</th>\n",
       "      <td>19</td>\n",
       "      <td>bhagat_9495</td>\n",
       "      <td>Howmany Seats will BJP win ?\\n\\n#LokSabhaElect...</td>\n",
       "      <td>0.800000</td>\n",
       "      <td>+ve</td>\n",
       "    </tr>\n",
       "    <tr>\n",
       "      <th>20</th>\n",
       "      <td>20</td>\n",
       "      <td>UdayiCODE</td>\n",
       "      <td>I am seeing 3 Options for PM this time #Modi #...</td>\n",
       "      <td>0.000000</td>\n",
       "      <td>0</td>\n",
       "    </tr>\n",
       "    <tr>\n",
       "      <th>21</th>\n",
       "      <td>21</td>\n",
       "      <td>SandipGhose</td>\n",
       "      <td>@thakkar_sameet @BDUTT @surjitbhalla 4/n smack...</td>\n",
       "      <td>0.000000</td>\n",
       "      <td>0</td>\n",
       "    </tr>\n",
       "    <tr>\n",
       "      <th>22</th>\n",
       "      <td>22</td>\n",
       "      <td>NehShh2</td>\n",
       "      <td>@JagratiGupta3 @Swamy39 In the matter of Educa...</td>\n",
       "      <td>0.200000</td>\n",
       "      <td>+ve</td>\n",
       "    </tr>\n",
       "    <tr>\n",
       "      <th>23</th>\n",
       "      <td>23</td>\n",
       "      <td>abdullalsebea</td>\n",
       "      <td>If I'm Indian, I'll vote for @narendramodi 🇮🇳 ...</td>\n",
       "      <td>0.000000</td>\n",
       "      <td>0</td>\n",
       "    </tr>\n",
       "    <tr>\n",
       "      <th>24</th>\n",
       "      <td>24</td>\n",
       "      <td>freespeechabi</td>\n",
       "      <td>#LokSabhaElections2019 Last phase voters - ple...</td>\n",
       "      <td>0.390625</td>\n",
       "      <td>+ve</td>\n",
       "    </tr>\n",
       "    <tr>\n",
       "      <th>25</th>\n",
       "      <td>25</td>\n",
       "      <td>ninadsheth</td>\n",
       "      <td>@TarekFatah @nytopinion #RomilaThapar one of I...</td>\n",
       "      <td>0.191667</td>\n",
       "      <td>+ve</td>\n",
       "    </tr>\n",
       "    <tr>\n",
       "      <th>26</th>\n",
       "      <td>26</td>\n",
       "      <td>VijayMittal2512</td>\n",
       "      <td>@Ahmed1Hilal Calculation of @ArvindKejriwal 's...</td>\n",
       "      <td>-0.150000</td>\n",
       "      <td>-ve</td>\n",
       "    </tr>\n",
       "    <tr>\n",
       "      <th>27</th>\n",
       "      <td>27</td>\n",
       "      <td>KedarSirohi</td>\n",
       "      <td>Modi is India, India is Modi- this was proved ...</td>\n",
       "      <td>0.000000</td>\n",
       "      <td>0</td>\n",
       "    </tr>\n",
       "    <tr>\n",
       "      <th>28</th>\n",
       "      <td>28</td>\n",
       "      <td>zarbealikazmi</td>\n",
       "      <td>1/2 without “#Parchi”. Modi was totally quite ...</td>\n",
       "      <td>0.000000</td>\n",
       "      <td>0</td>\n",
       "    </tr>\n",
       "    <tr>\n",
       "      <th>29</th>\n",
       "      <td>29</td>\n",
       "      <td>subhamsenapaty</td>\n",
       "      <td>To all #BJP bhakts, it's an open challenge.\\nI...</td>\n",
       "      <td>0.225000</td>\n",
       "      <td>+ve</td>\n",
       "    </tr>\n",
       "  </tbody>\n",
       "</table>\n",
       "</div>"
      ],
      "text/plain": [
       "    Unnamed: 0             User  \\\n",
       "0            0  advosushildixit   \n",
       "1            1           jiaeur   \n",
       "2            2    PVenkatGandhi   \n",
       "3            3      TheNirbhay1   \n",
       "4            4      ShakeChilli   \n",
       "5            5    UttarrPradesh   \n",
       "6            6     Mdsr20351488   \n",
       "7            7   ShaileshWrites   \n",
       "8            8           iamljp   \n",
       "9            9   TheShobhitAzad   \n",
       "10          10        sheikh541   \n",
       "11          11     Mdsr20351488   \n",
       "12          12    JosephPravinP   \n",
       "13          13  TheSaptarshiRay   \n",
       "14          14     AshokeRattan   \n",
       "15          15  VandanaMegastar   \n",
       "16          16   Iqbal_Hussains   \n",
       "17          17          RGspeak   \n",
       "18          18      nirajkushwa   \n",
       "19          19      bhagat_9495   \n",
       "20          20        UdayiCODE   \n",
       "21          21      SandipGhose   \n",
       "22          22          NehShh2   \n",
       "23          23    abdullalsebea   \n",
       "24          24    freespeechabi   \n",
       "25          25       ninadsheth   \n",
       "26          26  VijayMittal2512   \n",
       "27          27      KedarSirohi   \n",
       "28          28    zarbealikazmi   \n",
       "29          29   subhamsenapaty   \n",
       "\n",
       "                                                Tweet  Polarity Label  \n",
       "0   @anjanaomkashyap I am seeing you as future #bj...  0.350000   +ve  \n",
       "1   #LokSabhaElections2019 \\n23rd May 2019 will re...  0.800000   +ve  \n",
       "2   #LokSabhaElections2019 \\n23rd May 2019 will re...  0.800000   +ve  \n",
       "3   PM Modi creates a new record of being the only...  0.312121   +ve  \n",
       "4   @abhijitmajumder Appointment of Successor! \\n\\...  0.098788   +ve  \n",
       "5   Which of the following should be top priority ...  0.250000   +ve  \n",
       "6   After 5yrs of Modi 🙁\\n\\n-SC vs SC\\n-EC vs EC\\n...  0.000000     0  \n",
       "7   @RenukaJain6\\nI still remember your video mass... -0.500000   -ve  \n",
       "8   #bjp @BJP4India @INCIndia @INCKarnataka how mu... -0.342857   -ve  \n",
       "9   #AzadPrediction\\n#LokSabhaElections2019 \\n\\nBJ...  0.000000     0  \n",
       "10  #BJP was renamed as Safroon Party then again i...  0.000000     0  \n",
       "11  All Pakistanis had serious doubts on concept o...  0.222222   +ve  \n",
       "12  @ajaymaken @RahulGandhi And as a final touch, ...  0.320000   +ve  \n",
       "13  I think before casting the vote for  last phas...  0.233333   +ve  \n",
       "14  Trying to forge opposition will be a futile ex...  0.200000   +ve  \n",
       "15  #LokSabhaElections2019 Anyone not having mass ... -0.166667   -ve  \n",
       "16  #ElectionCommission #LokSabhaElections2019 PM'...  0.183333   +ve  \n",
       "17  @INCIndia should release a video of @RahulGand...  0.400000   +ve  \n",
       "18  @KajalChauhan_ @dashingassu Our PM ( Modi ji) ... -0.333333   -ve  \n",
       "19  Howmany Seats will BJP win ?\\n\\n#LokSabhaElect...  0.800000   +ve  \n",
       "20  I am seeing 3 Options for PM this time #Modi #...  0.000000     0  \n",
       "21  @thakkar_sameet @BDUTT @surjitbhalla 4/n smack...  0.000000     0  \n",
       "22  @JagratiGupta3 @Swamy39 In the matter of Educa...  0.200000   +ve  \n",
       "23  If I'm Indian, I'll vote for @narendramodi 🇮🇳 ...  0.000000     0  \n",
       "24  #LokSabhaElections2019 Last phase voters - ple...  0.390625   +ve  \n",
       "25  @TarekFatah @nytopinion #RomilaThapar one of I...  0.191667   +ve  \n",
       "26  @Ahmed1Hilal Calculation of @ArvindKejriwal 's... -0.150000   -ve  \n",
       "27  Modi is India, India is Modi- this was proved ...  0.000000     0  \n",
       "28  1/2 without “#Parchi”. Modi was totally quite ...  0.000000     0  \n",
       "29  To all #BJP bhakts, it's an open challenge.\\nI...  0.225000   +ve  "
      ]
     },
     "execution_count": 27,
     "metadata": {},
     "output_type": "execute_result"
    }
   ],
   "source": [
    "modi.head(30)"
   ]
  },
  {
   "cell_type": "code",
   "execution_count": 28,
   "metadata": {
    "scrolled": true
   },
   "outputs": [
    {
     "data": {
      "text/html": [
       "<div>\n",
       "<style scoped>\n",
       "    .dataframe tbody tr th:only-of-type {\n",
       "        vertical-align: middle;\n",
       "    }\n",
       "\n",
       "    .dataframe tbody tr th {\n",
       "        vertical-align: top;\n",
       "    }\n",
       "\n",
       "    .dataframe thead th {\n",
       "        text-align: right;\n",
       "    }\n",
       "</style>\n",
       "<table border=\"1\" class=\"dataframe\">\n",
       "  <thead>\n",
       "    <tr style=\"text-align: right;\">\n",
       "      <th></th>\n",
       "      <th>Unnamed: 0</th>\n",
       "      <th>User</th>\n",
       "      <th>Tweet</th>\n",
       "      <th>Polarity</th>\n",
       "      <th>Label</th>\n",
       "    </tr>\n",
       "  </thead>\n",
       "  <tbody>\n",
       "    <tr>\n",
       "      <th>0</th>\n",
       "      <td>0</td>\n",
       "      <td>Sunnysweet16</td>\n",
       "      <td>Wonder why no academic or journalist asks INC ...</td>\n",
       "      <td>0.218750</td>\n",
       "      <td>+ve</td>\n",
       "    </tr>\n",
       "    <tr>\n",
       "      <th>1</th>\n",
       "      <td>1</td>\n",
       "      <td>drnitinchaube</td>\n",
       "      <td>Congrats for the change #australiavotes2019 an...</td>\n",
       "      <td>0.000000</td>\n",
       "      <td>0</td>\n",
       "    </tr>\n",
       "    <tr>\n",
       "      <th>2</th>\n",
       "      <td>2</td>\n",
       "      <td>mrvivek07</td>\n",
       "      <td>Peopel Say “Govt Ne 70 Years Kya kiya”.\\nUnse ...</td>\n",
       "      <td>0.000000</td>\n",
       "      <td>0</td>\n",
       "    </tr>\n",
       "    <tr>\n",
       "      <th>3</th>\n",
       "      <td>3</td>\n",
       "      <td>JosephPravinP</td>\n",
       "      <td>@ajaymaken @RahulGandhi And as a final touch, ...</td>\n",
       "      <td>0.320000</td>\n",
       "      <td>+ve</td>\n",
       "    </tr>\n",
       "    <tr>\n",
       "      <th>4</th>\n",
       "      <td>4</td>\n",
       "      <td>VandanaMegastar</td>\n",
       "      <td>#LokSabhaElections2019 Anyone not having mass ...</td>\n",
       "      <td>-0.166667</td>\n",
       "      <td>-ve</td>\n",
       "    </tr>\n",
       "    <tr>\n",
       "      <th>5</th>\n",
       "      <td>5</td>\n",
       "      <td>RGspeak</td>\n",
       "      <td>@INCIndia should release a video of @RahulGand...</td>\n",
       "      <td>0.400000</td>\n",
       "      <td>+ve</td>\n",
       "    </tr>\n",
       "    <tr>\n",
       "      <th>6</th>\n",
       "      <td>6</td>\n",
       "      <td>SandipGhose</td>\n",
       "      <td>@thakkar_sameet @BDUTT @surjitbhalla 4/n smack...</td>\n",
       "      <td>0.000000</td>\n",
       "      <td>0</td>\n",
       "    </tr>\n",
       "    <tr>\n",
       "      <th>7</th>\n",
       "      <td>7</td>\n",
       "      <td>__Shivampandey</td>\n",
       "      <td>Rahul Gandhi Spotted in Switzerland, 1 hour ag...</td>\n",
       "      <td>0.350000</td>\n",
       "      <td>+ve</td>\n",
       "    </tr>\n",
       "    <tr>\n",
       "      <th>8</th>\n",
       "      <td>8</td>\n",
       "      <td>usman_majid1</td>\n",
       "      <td>BJP will be nowhere in India after May 23. BJP...</td>\n",
       "      <td>0.000000</td>\n",
       "      <td>0</td>\n",
       "    </tr>\n",
       "    <tr>\n",
       "      <th>9</th>\n",
       "      <td>9</td>\n",
       "      <td>pintoo2060</td>\n",
       "      <td>#Punjab \\nBhatinda- cong-  Sad neck to neck \\n...</td>\n",
       "      <td>-0.175000</td>\n",
       "      <td>-ve</td>\n",
       "    </tr>\n",
       "    <tr>\n",
       "      <th>10</th>\n",
       "      <td>10</td>\n",
       "      <td>BapiM14</td>\n",
       "      <td>@IYCTelangana @IncBasavakalyan @narendramodi @...</td>\n",
       "      <td>-0.381470</td>\n",
       "      <td>-ve</td>\n",
       "    </tr>\n",
       "    <tr>\n",
       "      <th>11</th>\n",
       "      <td>11</td>\n",
       "      <td>eccentricraj</td>\n",
       "      <td>@ani_digital @ANI @rssurjewala IF #ECI #SunilA...</td>\n",
       "      <td>0.800000</td>\n",
       "      <td>+ve</td>\n",
       "    </tr>\n",
       "    <tr>\n",
       "      <th>12</th>\n",
       "      <td>12</td>\n",
       "      <td>mayursejpal</td>\n",
       "      <td>My Predictions\\n\\nBJP+NDA = 300 to 310\\nCongre...</td>\n",
       "      <td>0.000000</td>\n",
       "      <td>0</td>\n",
       "    </tr>\n",
       "    <tr>\n",
       "      <th>13</th>\n",
       "      <td>13</td>\n",
       "      <td>nagarjund</td>\n",
       "      <td>Siddaramaiah, Mallikarjun Kharge, Dinesh Gundu...</td>\n",
       "      <td>0.000000</td>\n",
       "      <td>0</td>\n",
       "    </tr>\n",
       "    <tr>\n",
       "      <th>14</th>\n",
       "      <td>14</td>\n",
       "      <td>INC_KONARKKD</td>\n",
       "      <td>@RahulGandhi RG Next PM of india #LokSabhaElec...</td>\n",
       "      <td>0.000000</td>\n",
       "      <td>0</td>\n",
       "    </tr>\n",
       "    <tr>\n",
       "      <th>15</th>\n",
       "      <td>15</td>\n",
       "      <td>INC_KONARKKD</td>\n",
       "      <td>@RahulGandhi Great One #LokSabhaElections2019</td>\n",
       "      <td>0.800000</td>\n",
       "      <td>+ve</td>\n",
       "    </tr>\n",
       "    <tr>\n",
       "      <th>16</th>\n",
       "      <td>16</td>\n",
       "      <td>dipaksamanta</td>\n",
       "      <td>@RahulGandhi We should not speak about Nehru, ...</td>\n",
       "      <td>0.800000</td>\n",
       "      <td>+ve</td>\n",
       "    </tr>\n",
       "    <tr>\n",
       "      <th>17</th>\n",
       "      <td>17</td>\n",
       "      <td>KhoranaR</td>\n",
       "      <td>Whatever the outcome of #LokSabhaElections2019...</td>\n",
       "      <td>0.433333</td>\n",
       "      <td>+ve</td>\n",
       "    </tr>\n",
       "    <tr>\n",
       "      <th>18</th>\n",
       "      <td>18</td>\n",
       "      <td>bhhatu</td>\n",
       "      <td>@JhaSanjay nice pic @JhaSanjay ...\\nu totally ...</td>\n",
       "      <td>0.300000</td>\n",
       "      <td>+ve</td>\n",
       "    </tr>\n",
       "    <tr>\n",
       "      <th>19</th>\n",
       "      <td>19</td>\n",
       "      <td>pdquote</td>\n",
       "      <td>#BJP's aircraft had been detected by #Congress...</td>\n",
       "      <td>0.000000</td>\n",
       "      <td>0</td>\n",
       "    </tr>\n",
       "    <tr>\n",
       "      <th>20</th>\n",
       "      <td>20</td>\n",
       "      <td>mrmishra2001</td>\n",
       "      <td>@INCIndia @RahulGandhi Your party have done go...</td>\n",
       "      <td>0.700000</td>\n",
       "      <td>+ve</td>\n",
       "    </tr>\n",
       "    <tr>\n",
       "      <th>21</th>\n",
       "      <td>21</td>\n",
       "      <td>madhusudan41</td>\n",
       "      <td>@sanjaymarkets Throughout #LokSabhaElections20...</td>\n",
       "      <td>0.000000</td>\n",
       "      <td>0</td>\n",
       "    </tr>\n",
       "    <tr>\n",
       "      <th>22</th>\n",
       "      <td>22</td>\n",
       "      <td>madhusudan41</td>\n",
       "      <td>@Jayesh_Chande Non-NDA regional parties will g...</td>\n",
       "      <td>0.000000</td>\n",
       "      <td>0</td>\n",
       "    </tr>\n",
       "    <tr>\n",
       "      <th>23</th>\n",
       "      <td>23</td>\n",
       "      <td>madhusudan41</td>\n",
       "      <td>As per a design, Sonia deliberately kept a low...</td>\n",
       "      <td>0.000000</td>\n",
       "      <td>0</td>\n",
       "    </tr>\n",
       "    <tr>\n",
       "      <th>24</th>\n",
       "      <td>24</td>\n",
       "      <td>rjarpitaa</td>\n",
       "      <td>To muster strategies, Sonia Gandhi has called ...</td>\n",
       "      <td>0.136364</td>\n",
       "      <td>+ve</td>\n",
       "    </tr>\n",
       "    <tr>\n",
       "      <th>25</th>\n",
       "      <td>25</td>\n",
       "      <td>Sarcastic_SR</td>\n",
       "      <td>The sense I get from people I talk to is that ...</td>\n",
       "      <td>0.166667</td>\n",
       "      <td>+ve</td>\n",
       "    </tr>\n",
       "    <tr>\n",
       "      <th>26</th>\n",
       "      <td>26</td>\n",
       "      <td>puranik_kaushik</td>\n",
       "      <td>Why are the political parties fighting about w...</td>\n",
       "      <td>-0.100000</td>\n",
       "      <td>-ve</td>\n",
       "    </tr>\n",
       "    <tr>\n",
       "      <th>27</th>\n",
       "      <td>27</td>\n",
       "      <td>umakantsingh_IN</td>\n",
       "      <td>#MuteModi, it wrong, it  #Modi3.0 for 2024 as ...</td>\n",
       "      <td>-0.500000</td>\n",
       "      <td>-ve</td>\n",
       "    </tr>\n",
       "    <tr>\n",
       "      <th>28</th>\n",
       "      <td>28</td>\n",
       "      <td>Utsav6589</td>\n",
       "      <td>@RahulGandhi You don't worry Mr Gandhi, AAYEGA...</td>\n",
       "      <td>0.781250</td>\n",
       "      <td>+ve</td>\n",
       "    </tr>\n",
       "    <tr>\n",
       "      <th>29</th>\n",
       "      <td>29</td>\n",
       "      <td>pkm1999</td>\n",
       "      <td>@rupasubramanya @narendramodi @AmitShah @Rahul...</td>\n",
       "      <td>0.000000</td>\n",
       "      <td>0</td>\n",
       "    </tr>\n",
       "  </tbody>\n",
       "</table>\n",
       "</div>"
      ],
      "text/plain": [
       "    Unnamed: 0             User  \\\n",
       "0            0     Sunnysweet16   \n",
       "1            1    drnitinchaube   \n",
       "2            2        mrvivek07   \n",
       "3            3    JosephPravinP   \n",
       "4            4  VandanaMegastar   \n",
       "5            5          RGspeak   \n",
       "6            6      SandipGhose   \n",
       "7            7   __Shivampandey   \n",
       "8            8     usman_majid1   \n",
       "9            9       pintoo2060   \n",
       "10          10          BapiM14   \n",
       "11          11     eccentricraj   \n",
       "12          12      mayursejpal   \n",
       "13          13        nagarjund   \n",
       "14          14     INC_KONARKKD   \n",
       "15          15     INC_KONARKKD   \n",
       "16          16     dipaksamanta   \n",
       "17          17         KhoranaR   \n",
       "18          18           bhhatu   \n",
       "19          19          pdquote   \n",
       "20          20     mrmishra2001   \n",
       "21          21     madhusudan41   \n",
       "22          22     madhusudan41   \n",
       "23          23     madhusudan41   \n",
       "24          24        rjarpitaa   \n",
       "25          25     Sarcastic_SR   \n",
       "26          26  puranik_kaushik   \n",
       "27          27  umakantsingh_IN   \n",
       "28          28        Utsav6589   \n",
       "29          29          pkm1999   \n",
       "\n",
       "                                                Tweet  Polarity Label  \n",
       "0   Wonder why no academic or journalist asks INC ...  0.218750   +ve  \n",
       "1   Congrats for the change #australiavotes2019 an...  0.000000     0  \n",
       "2   Peopel Say “Govt Ne 70 Years Kya kiya”.\\nUnse ...  0.000000     0  \n",
       "3   @ajaymaken @RahulGandhi And as a final touch, ...  0.320000   +ve  \n",
       "4   #LokSabhaElections2019 Anyone not having mass ... -0.166667   -ve  \n",
       "5   @INCIndia should release a video of @RahulGand...  0.400000   +ve  \n",
       "6   @thakkar_sameet @BDUTT @surjitbhalla 4/n smack...  0.000000     0  \n",
       "7   Rahul Gandhi Spotted in Switzerland, 1 hour ag...  0.350000   +ve  \n",
       "8   BJP will be nowhere in India after May 23. BJP...  0.000000     0  \n",
       "9   #Punjab \\nBhatinda- cong-  Sad neck to neck \\n... -0.175000   -ve  \n",
       "10  @IYCTelangana @IncBasavakalyan @narendramodi @... -0.381470   -ve  \n",
       "11  @ani_digital @ANI @rssurjewala IF #ECI #SunilA...  0.800000   +ve  \n",
       "12  My Predictions\\n\\nBJP+NDA = 300 to 310\\nCongre...  0.000000     0  \n",
       "13  Siddaramaiah, Mallikarjun Kharge, Dinesh Gundu...  0.000000     0  \n",
       "14  @RahulGandhi RG Next PM of india #LokSabhaElec...  0.000000     0  \n",
       "15      @RahulGandhi Great One #LokSabhaElections2019  0.800000   +ve  \n",
       "16  @RahulGandhi We should not speak about Nehru, ...  0.800000   +ve  \n",
       "17  Whatever the outcome of #LokSabhaElections2019...  0.433333   +ve  \n",
       "18  @JhaSanjay nice pic @JhaSanjay ...\\nu totally ...  0.300000   +ve  \n",
       "19  #BJP's aircraft had been detected by #Congress...  0.000000     0  \n",
       "20  @INCIndia @RahulGandhi Your party have done go...  0.700000   +ve  \n",
       "21  @sanjaymarkets Throughout #LokSabhaElections20...  0.000000     0  \n",
       "22  @Jayesh_Chande Non-NDA regional parties will g...  0.000000     0  \n",
       "23  As per a design, Sonia deliberately kept a low...  0.000000     0  \n",
       "24  To muster strategies, Sonia Gandhi has called ...  0.136364   +ve  \n",
       "25  The sense I get from people I talk to is that ...  0.166667   +ve  \n",
       "26  Why are the political parties fighting about w... -0.100000   -ve  \n",
       "27  #MuteModi, it wrong, it  #Modi3.0 for 2024 as ... -0.500000   -ve  \n",
       "28  @RahulGandhi You don't worry Mr Gandhi, AAYEGA...  0.781250   +ve  \n",
       "29  @rupasubramanya @narendramodi @AmitShah @Rahul...  0.000000     0  "
      ]
     },
     "execution_count": 28,
     "metadata": {},
     "output_type": "execute_result"
    }
   ],
   "source": [
    "rahul.head(30)"
   ]
  },
  {
   "cell_type": "code",
   "execution_count": 29,
   "metadata": {},
   "outputs": [
    {
     "data": {
      "text/plain": [
       "(25688, 5)"
      ]
     },
     "execution_count": 29,
     "metadata": {},
     "output_type": "execute_result"
    }
   ],
   "source": [
    "modi.shape"
   ]
  },
  {
   "cell_type": "code",
   "execution_count": 30,
   "metadata": {},
   "outputs": [
    {
     "data": {
      "text/plain": [
       "(14261, 5)"
      ]
     },
     "execution_count": 30,
     "metadata": {},
     "output_type": "execute_result"
    }
   ],
   "source": [
    "rahul.shape"
   ]
  },
  {
   "cell_type": "markdown",
   "metadata": {},
   "source": [
    "# Equalizing Shape "
   ]
  },
  {
   "cell_type": "code",
   "execution_count": 31,
   "metadata": {},
   "outputs": [],
   "source": [
    "# modi\n",
    "\n",
    "np.random.seed(10)\n",
    "remove_n = 11688\n",
    "drop_indices = np.random.choice(modi.index, remove_n, replace=False)\n",
    "df_modi = modi.drop(drop_indices)\n"
   ]
  },
  {
   "cell_type": "code",
   "execution_count": 32,
   "metadata": {},
   "outputs": [],
   "source": [
    "# rahul\n",
    "\n",
    "np.random.seed(10)\n",
    "remove_n = 261\n",
    "drop_indices = np.random.choice(rahul.index, remove_n, replace=False)\n",
    "df_rahul = rahul.drop(drop_indices)"
   ]
  },
  {
   "cell_type": "code",
   "execution_count": 33,
   "metadata": {
    "scrolled": true
   },
   "outputs": [
    {
     "name": "stdout",
     "output_type": "stream",
     "text": [
      "(14000, 5)\n",
      "(14000, 5)\n"
     ]
    }
   ],
   "source": [
    "print(df_modi.shape)\n",
    "print(df_rahul.shape)"
   ]
  },
  {
   "cell_type": "code",
   "execution_count": 34,
   "metadata": {
    "scrolled": true
   },
   "outputs": [
    {
     "data": {
      "text/html": [
       "<div>\n",
       "<style scoped>\n",
       "    .dataframe tbody tr th:only-of-type {\n",
       "        vertical-align: middle;\n",
       "    }\n",
       "\n",
       "    .dataframe tbody tr th {\n",
       "        vertical-align: top;\n",
       "    }\n",
       "\n",
       "    .dataframe thead th {\n",
       "        text-align: right;\n",
       "    }\n",
       "</style>\n",
       "<table border=\"1\" class=\"dataframe\">\n",
       "  <thead>\n",
       "    <tr style=\"text-align: right;\">\n",
       "      <th></th>\n",
       "      <th>Unnamed: 0</th>\n",
       "      <th>User</th>\n",
       "      <th>Tweet</th>\n",
       "      <th>Polarity</th>\n",
       "      <th>Label</th>\n",
       "    </tr>\n",
       "  </thead>\n",
       "  <tbody>\n",
       "    <tr>\n",
       "      <th>0</th>\n",
       "      <td>0</td>\n",
       "      <td>advosushildixit</td>\n",
       "      <td>@anjanaomkashyap I am seeing you as future #bj...</td>\n",
       "      <td>0.350000</td>\n",
       "      <td>+ve</td>\n",
       "    </tr>\n",
       "    <tr>\n",
       "      <th>1</th>\n",
       "      <td>1</td>\n",
       "      <td>jiaeur</td>\n",
       "      <td>#LokSabhaElections2019 \\n23rd May 2019 will re...</td>\n",
       "      <td>0.800000</td>\n",
       "      <td>+ve</td>\n",
       "    </tr>\n",
       "    <tr>\n",
       "      <th>2</th>\n",
       "      <td>2</td>\n",
       "      <td>PVenkatGandhi</td>\n",
       "      <td>#LokSabhaElections2019 \\n23rd May 2019 will re...</td>\n",
       "      <td>0.800000</td>\n",
       "      <td>+ve</td>\n",
       "    </tr>\n",
       "    <tr>\n",
       "      <th>3</th>\n",
       "      <td>3</td>\n",
       "      <td>TheNirbhay1</td>\n",
       "      <td>PM Modi creates a new record of being the only...</td>\n",
       "      <td>0.312121</td>\n",
       "      <td>+ve</td>\n",
       "    </tr>\n",
       "    <tr>\n",
       "      <th>4</th>\n",
       "      <td>4</td>\n",
       "      <td>ShakeChilli</td>\n",
       "      <td>@abhijitmajumder Appointment of Successor! \\n\\...</td>\n",
       "      <td>0.098788</td>\n",
       "      <td>+ve</td>\n",
       "    </tr>\n",
       "    <tr>\n",
       "      <th>...</th>\n",
       "      <td>...</td>\n",
       "      <td>...</td>\n",
       "      <td>...</td>\n",
       "      <td>...</td>\n",
       "      <td>...</td>\n",
       "    </tr>\n",
       "    <tr>\n",
       "      <th>25683</th>\n",
       "      <td>25683</td>\n",
       "      <td>shv_indian</td>\n",
       "      <td>#1DDrive #ModiSpeaksToNews18 #LokSabhaElection...</td>\n",
       "      <td>0.000000</td>\n",
       "      <td>0</td>\n",
       "    </tr>\n",
       "    <tr>\n",
       "      <th>25684</th>\n",
       "      <td>25684</td>\n",
       "      <td>SONUPINKOO</td>\n",
       "      <td>I am seriously worried about future of Indian ...</td>\n",
       "      <td>0.209524</td>\n",
       "      <td>+ve</td>\n",
       "    </tr>\n",
       "    <tr>\n",
       "      <th>25685</th>\n",
       "      <td>25685</td>\n",
       "      <td>SONUPINKOO</td>\n",
       "      <td>If @narendramodi is so Bad then Why does @INCI...</td>\n",
       "      <td>-0.700000</td>\n",
       "      <td>-ve</td>\n",
       "    </tr>\n",
       "    <tr>\n",
       "      <th>25686</th>\n",
       "      <td>25686</td>\n",
       "      <td>SONUPINKOO</td>\n",
       "      <td>On this 23rd March (Pakistan Day), I Urge all ...</td>\n",
       "      <td>0.000000</td>\n",
       "      <td>0</td>\n",
       "    </tr>\n",
       "    <tr>\n",
       "      <th>25687</th>\n",
       "      <td>25687</td>\n",
       "      <td>parthajit0101</td>\n",
       "      <td>@timesofindia #ArvindKejriwal, #AAP sirji pls ...</td>\n",
       "      <td>-0.213542</td>\n",
       "      <td>-ve</td>\n",
       "    </tr>\n",
       "  </tbody>\n",
       "</table>\n",
       "<p>25688 rows × 5 columns</p>\n",
       "</div>"
      ],
      "text/plain": [
       "       Unnamed: 0             User  \\\n",
       "0               0  advosushildixit   \n",
       "1               1           jiaeur   \n",
       "2               2    PVenkatGandhi   \n",
       "3               3      TheNirbhay1   \n",
       "4               4      ShakeChilli   \n",
       "...           ...              ...   \n",
       "25683       25683       shv_indian   \n",
       "25684       25684       SONUPINKOO   \n",
       "25685       25685       SONUPINKOO   \n",
       "25686       25686       SONUPINKOO   \n",
       "25687       25687    parthajit0101   \n",
       "\n",
       "                                                   Tweet  Polarity Label  \n",
       "0      @anjanaomkashyap I am seeing you as future #bj...  0.350000   +ve  \n",
       "1      #LokSabhaElections2019 \\n23rd May 2019 will re...  0.800000   +ve  \n",
       "2      #LokSabhaElections2019 \\n23rd May 2019 will re...  0.800000   +ve  \n",
       "3      PM Modi creates a new record of being the only...  0.312121   +ve  \n",
       "4      @abhijitmajumder Appointment of Successor! \\n\\...  0.098788   +ve  \n",
       "...                                                  ...       ...   ...  \n",
       "25683  #1DDrive #ModiSpeaksToNews18 #LokSabhaElection...  0.000000     0  \n",
       "25684  I am seriously worried about future of Indian ...  0.209524   +ve  \n",
       "25685  If @narendramodi is so Bad then Why does @INCI... -0.700000   -ve  \n",
       "25686  On this 23rd March (Pakistan Day), I Urge all ...  0.000000     0  \n",
       "25687  @timesofindia #ArvindKejriwal, #AAP sirji pls ... -0.213542   -ve  \n",
       "\n",
       "[25688 rows x 5 columns]"
      ]
     },
     "execution_count": 34,
     "metadata": {},
     "output_type": "execute_result"
    }
   ],
   "source": [
    "modi"
   ]
  },
  {
   "cell_type": "code",
   "execution_count": 35,
   "metadata": {},
   "outputs": [
    {
     "data": {
      "text/html": [
       "<div>\n",
       "<style scoped>\n",
       "    .dataframe tbody tr th:only-of-type {\n",
       "        vertical-align: middle;\n",
       "    }\n",
       "\n",
       "    .dataframe tbody tr th {\n",
       "        vertical-align: top;\n",
       "    }\n",
       "\n",
       "    .dataframe thead th {\n",
       "        text-align: right;\n",
       "    }\n",
       "</style>\n",
       "<table border=\"1\" class=\"dataframe\">\n",
       "  <thead>\n",
       "    <tr style=\"text-align: right;\">\n",
       "      <th></th>\n",
       "      <th>Unnamed: 0</th>\n",
       "      <th>User</th>\n",
       "      <th>Tweet</th>\n",
       "      <th>Polarity</th>\n",
       "      <th>Label</th>\n",
       "    </tr>\n",
       "  </thead>\n",
       "  <tbody>\n",
       "    <tr>\n",
       "      <th>0</th>\n",
       "      <td>0</td>\n",
       "      <td>Sunnysweet16</td>\n",
       "      <td>Wonder why no academic or journalist asks INC ...</td>\n",
       "      <td>0.218750</td>\n",
       "      <td>+ve</td>\n",
       "    </tr>\n",
       "    <tr>\n",
       "      <th>1</th>\n",
       "      <td>1</td>\n",
       "      <td>drnitinchaube</td>\n",
       "      <td>Congrats for the change #australiavotes2019 an...</td>\n",
       "      <td>0.000000</td>\n",
       "      <td>0</td>\n",
       "    </tr>\n",
       "    <tr>\n",
       "      <th>2</th>\n",
       "      <td>2</td>\n",
       "      <td>mrvivek07</td>\n",
       "      <td>Peopel Say “Govt Ne 70 Years Kya kiya”.\\nUnse ...</td>\n",
       "      <td>0.000000</td>\n",
       "      <td>0</td>\n",
       "    </tr>\n",
       "    <tr>\n",
       "      <th>3</th>\n",
       "      <td>3</td>\n",
       "      <td>JosephPravinP</td>\n",
       "      <td>@ajaymaken @RahulGandhi And as a final touch, ...</td>\n",
       "      <td>0.320000</td>\n",
       "      <td>+ve</td>\n",
       "    </tr>\n",
       "    <tr>\n",
       "      <th>4</th>\n",
       "      <td>4</td>\n",
       "      <td>VandanaMegastar</td>\n",
       "      <td>#LokSabhaElections2019 Anyone not having mass ...</td>\n",
       "      <td>-0.166667</td>\n",
       "      <td>-ve</td>\n",
       "    </tr>\n",
       "    <tr>\n",
       "      <th>...</th>\n",
       "      <td>...</td>\n",
       "      <td>...</td>\n",
       "      <td>...</td>\n",
       "      <td>...</td>\n",
       "      <td>...</td>\n",
       "    </tr>\n",
       "    <tr>\n",
       "      <th>14256</th>\n",
       "      <td>14256</td>\n",
       "      <td>SunjayJK</td>\n",
       "      <td>@quizzicalguy In this #LokSabhaElections2019, ...</td>\n",
       "      <td>0.000000</td>\n",
       "      <td>0</td>\n",
       "    </tr>\n",
       "    <tr>\n",
       "      <th>14257</th>\n",
       "      <td>14257</td>\n",
       "      <td>SunjayJK</td>\n",
       "      <td>@AnumaVidisha @RahulGandhi @ArvindKejriwal whe...</td>\n",
       "      <td>-0.500000</td>\n",
       "      <td>-ve</td>\n",
       "    </tr>\n",
       "    <tr>\n",
       "      <th>14258</th>\n",
       "      <td>14258</td>\n",
       "      <td>RAMANKAIRA</td>\n",
       "      <td>@sherryontopp Early morning #political move af...</td>\n",
       "      <td>0.080000</td>\n",
       "      <td>+ve</td>\n",
       "    </tr>\n",
       "    <tr>\n",
       "      <th>14259</th>\n",
       "      <td>14259</td>\n",
       "      <td>RAMANKAIRA</td>\n",
       "      <td>@mayankgandhi04 @mallesh_2004 Early morning #p...</td>\n",
       "      <td>0.080000</td>\n",
       "      <td>+ve</td>\n",
       "    </tr>\n",
       "    <tr>\n",
       "      <th>14260</th>\n",
       "      <td>14260</td>\n",
       "      <td>RAMANKAIRA</td>\n",
       "      <td>@DrKumarVishwas Early morning #political move ...</td>\n",
       "      <td>0.080000</td>\n",
       "      <td>+ve</td>\n",
       "    </tr>\n",
       "  </tbody>\n",
       "</table>\n",
       "<p>14261 rows × 5 columns</p>\n",
       "</div>"
      ],
      "text/plain": [
       "       Unnamed: 0             User  \\\n",
       "0               0     Sunnysweet16   \n",
       "1               1    drnitinchaube   \n",
       "2               2        mrvivek07   \n",
       "3               3    JosephPravinP   \n",
       "4               4  VandanaMegastar   \n",
       "...           ...              ...   \n",
       "14256       14256         SunjayJK   \n",
       "14257       14257         SunjayJK   \n",
       "14258       14258       RAMANKAIRA   \n",
       "14259       14259       RAMANKAIRA   \n",
       "14260       14260       RAMANKAIRA   \n",
       "\n",
       "                                                   Tweet  Polarity Label  \n",
       "0      Wonder why no academic or journalist asks INC ...  0.218750   +ve  \n",
       "1      Congrats for the change #australiavotes2019 an...  0.000000     0  \n",
       "2      Peopel Say “Govt Ne 70 Years Kya kiya”.\\nUnse ...  0.000000     0  \n",
       "3      @ajaymaken @RahulGandhi And as a final touch, ...  0.320000   +ve  \n",
       "4      #LokSabhaElections2019 Anyone not having mass ... -0.166667   -ve  \n",
       "...                                                  ...       ...   ...  \n",
       "14256  @quizzicalguy In this #LokSabhaElections2019, ...  0.000000     0  \n",
       "14257  @AnumaVidisha @RahulGandhi @ArvindKejriwal whe... -0.500000   -ve  \n",
       "14258  @sherryontopp Early morning #political move af...  0.080000   +ve  \n",
       "14259  @mayankgandhi04 @mallesh_2004 Early morning #p...  0.080000   +ve  \n",
       "14260  @DrKumarVishwas Early morning #political move ...  0.080000   +ve  \n",
       "\n",
       "[14261 rows x 5 columns]"
      ]
     },
     "execution_count": 35,
     "metadata": {},
     "output_type": "execute_result"
    }
   ],
   "source": [
    "rahul"
   ]
  },
  {
   "cell_type": "markdown",
   "metadata": {},
   "source": [
    "# Prediction - Sentiment score (t test)"
   ]
  },
  {
   "cell_type": "code",
   "execution_count": 36,
   "metadata": {},
   "outputs": [
    {
     "data": {
      "text/html": [
       "<div>\n",
       "<style scoped>\n",
       "    .dataframe tbody tr th:only-of-type {\n",
       "        vertical-align: middle;\n",
       "    }\n",
       "\n",
       "    .dataframe tbody tr th {\n",
       "        vertical-align: top;\n",
       "    }\n",
       "\n",
       "    .dataframe thead th {\n",
       "        text-align: right;\n",
       "    }\n",
       "</style>\n",
       "<table border=\"1\" class=\"dataframe\">\n",
       "  <thead>\n",
       "    <tr style=\"text-align: right;\">\n",
       "      <th></th>\n",
       "      <th>Unnamed: 0</th>\n",
       "      <th>User</th>\n",
       "      <th>Tweet</th>\n",
       "      <th>Polarity</th>\n",
       "      <th>Label</th>\n",
       "    </tr>\n",
       "  </thead>\n",
       "  <tbody>\n",
       "    <tr>\n",
       "      <th>0</th>\n",
       "      <td>0</td>\n",
       "      <td>advosushildixit</td>\n",
       "      <td>@anjanaomkashyap I am seeing you as future #bj...</td>\n",
       "      <td>0.350000</td>\n",
       "      <td>+ve</td>\n",
       "    </tr>\n",
       "    <tr>\n",
       "      <th>1</th>\n",
       "      <td>1</td>\n",
       "      <td>jiaeur</td>\n",
       "      <td>#LokSabhaElections2019 \\n23rd May 2019 will re...</td>\n",
       "      <td>0.800000</td>\n",
       "      <td>+ve</td>\n",
       "    </tr>\n",
       "    <tr>\n",
       "      <th>2</th>\n",
       "      <td>2</td>\n",
       "      <td>PVenkatGandhi</td>\n",
       "      <td>#LokSabhaElections2019 \\n23rd May 2019 will re...</td>\n",
       "      <td>0.800000</td>\n",
       "      <td>+ve</td>\n",
       "    </tr>\n",
       "    <tr>\n",
       "      <th>3</th>\n",
       "      <td>3</td>\n",
       "      <td>TheNirbhay1</td>\n",
       "      <td>PM Modi creates a new record of being the only...</td>\n",
       "      <td>0.312121</td>\n",
       "      <td>+ve</td>\n",
       "    </tr>\n",
       "    <tr>\n",
       "      <th>4</th>\n",
       "      <td>4</td>\n",
       "      <td>ShakeChilli</td>\n",
       "      <td>@abhijitmajumder Appointment of Successor! \\n\\...</td>\n",
       "      <td>0.098788</td>\n",
       "      <td>+ve</td>\n",
       "    </tr>\n",
       "  </tbody>\n",
       "</table>\n",
       "</div>"
      ],
      "text/plain": [
       "   Unnamed: 0             User  \\\n",
       "0           0  advosushildixit   \n",
       "1           1           jiaeur   \n",
       "2           2    PVenkatGandhi   \n",
       "3           3      TheNirbhay1   \n",
       "4           4      ShakeChilli   \n",
       "\n",
       "                                               Tweet  Polarity Label  \n",
       "0  @anjanaomkashyap I am seeing you as future #bj...  0.350000   +ve  \n",
       "1  #LokSabhaElections2019 \\n23rd May 2019 will re...  0.800000   +ve  \n",
       "2  #LokSabhaElections2019 \\n23rd May 2019 will re...  0.800000   +ve  \n",
       "3  PM Modi creates a new record of being the only...  0.312121   +ve  \n",
       "4  @abhijitmajumder Appointment of Successor! \\n\\...  0.098788   +ve  "
      ]
     },
     "execution_count": 36,
     "metadata": {},
     "output_type": "execute_result"
    }
   ],
   "source": [
    "modi.head()"
   ]
  },
  {
   "cell_type": "code",
   "execution_count": 37,
   "metadata": {},
   "outputs": [
    {
     "data": {
      "text/html": [
       "<div>\n",
       "<style scoped>\n",
       "    .dataframe tbody tr th:only-of-type {\n",
       "        vertical-align: middle;\n",
       "    }\n",
       "\n",
       "    .dataframe tbody tr th {\n",
       "        vertical-align: top;\n",
       "    }\n",
       "\n",
       "    .dataframe thead th {\n",
       "        text-align: right;\n",
       "    }\n",
       "</style>\n",
       "<table border=\"1\" class=\"dataframe\">\n",
       "  <thead>\n",
       "    <tr style=\"text-align: right;\">\n",
       "      <th></th>\n",
       "      <th>Unnamed: 0</th>\n",
       "      <th>User</th>\n",
       "      <th>Tweet</th>\n",
       "      <th>Polarity</th>\n",
       "      <th>Label</th>\n",
       "    </tr>\n",
       "  </thead>\n",
       "  <tbody>\n",
       "    <tr>\n",
       "      <th>0</th>\n",
       "      <td>0</td>\n",
       "      <td>Sunnysweet16</td>\n",
       "      <td>Wonder why no academic or journalist asks INC ...</td>\n",
       "      <td>0.218750</td>\n",
       "      <td>+ve</td>\n",
       "    </tr>\n",
       "    <tr>\n",
       "      <th>1</th>\n",
       "      <td>1</td>\n",
       "      <td>drnitinchaube</td>\n",
       "      <td>Congrats for the change #australiavotes2019 an...</td>\n",
       "      <td>0.000000</td>\n",
       "      <td>0</td>\n",
       "    </tr>\n",
       "    <tr>\n",
       "      <th>2</th>\n",
       "      <td>2</td>\n",
       "      <td>mrvivek07</td>\n",
       "      <td>Peopel Say “Govt Ne 70 Years Kya kiya”.\\nUnse ...</td>\n",
       "      <td>0.000000</td>\n",
       "      <td>0</td>\n",
       "    </tr>\n",
       "    <tr>\n",
       "      <th>3</th>\n",
       "      <td>3</td>\n",
       "      <td>JosephPravinP</td>\n",
       "      <td>@ajaymaken @RahulGandhi And as a final touch, ...</td>\n",
       "      <td>0.320000</td>\n",
       "      <td>+ve</td>\n",
       "    </tr>\n",
       "    <tr>\n",
       "      <th>4</th>\n",
       "      <td>4</td>\n",
       "      <td>VandanaMegastar</td>\n",
       "      <td>#LokSabhaElections2019 Anyone not having mass ...</td>\n",
       "      <td>-0.166667</td>\n",
       "      <td>-ve</td>\n",
       "    </tr>\n",
       "  </tbody>\n",
       "</table>\n",
       "</div>"
      ],
      "text/plain": [
       "   Unnamed: 0             User  \\\n",
       "0           0     Sunnysweet16   \n",
       "1           1    drnitinchaube   \n",
       "2           2        mrvivek07   \n",
       "3           3    JosephPravinP   \n",
       "4           4  VandanaMegastar   \n",
       "\n",
       "                                               Tweet  Polarity Label  \n",
       "0  Wonder why no academic or journalist asks INC ...  0.218750   +ve  \n",
       "1  Congrats for the change #australiavotes2019 an...  0.000000     0  \n",
       "2  Peopel Say “Govt Ne 70 Years Kya kiya”.\\nUnse ...  0.000000     0  \n",
       "3  @ajaymaken @RahulGandhi And as a final touch, ...  0.320000   +ve  \n",
       "4  #LokSabhaElections2019 Anyone not having mass ... -0.166667   -ve  "
      ]
     },
     "execution_count": 37,
     "metadata": {},
     "output_type": "execute_result"
    }
   ],
   "source": [
    "rahul.head()"
   ]
  },
  {
   "cell_type": "code",
   "execution_count": 38,
   "metadata": {},
   "outputs": [],
   "source": [
    "# Normality Assumption\n",
    "\n",
    "polarity_modi = modi['Polarity']\n",
    "polarity_rahul = rahul['Polarity']"
   ]
  },
  {
   "cell_type": "code",
   "execution_count": 39,
   "metadata": {},
   "outputs": [
    {
     "data": {
      "image/png": "[encoded data removed]",
      "text/plain": [
       "<Figure size 640x480 with 1 Axes>"
      ]
     },
     "metadata": {},
     "output_type": "display_data"
    }
   ],
   "source": [
    "\n",
    "# Plot histogram (polarity_modi)\n",
    "\n",
    "sns.histplot(polarity_modi, kde=True)\n",
    "plt.title('Histogram of Sentiment Polarity (Modi)')\n",
    "plt.xlabel('Sentiment Polarity')\n",
    "plt.ylabel('Frequency')\n",
    "plt.show()\n"
   ]
  },
  {
   "cell_type": "code",
   "execution_count": 40,
   "metadata": {},
   "outputs": [
    {
     "data": {
      "image/png": "[encoded data removed]",
      "text/plain": [
       "<Figure size 640x480 with 1 Axes>"
      ]
     },
     "metadata": {},
     "output_type": "display_data"
    }
   ],
   "source": [
    "# Plot histogram (polarity_rahul)\n",
    "\n",
    "sns.histplot(polarity_rahul, kde=True)\n",
    "plt.title('Histogram of Sentiment Polarity (Rahul)')\n",
    "plt.xlabel('Sentiment Polarity')\n",
    "plt.ylabel('Frequency')\n",
    "plt.show()\n"
   ]
  },
  {
   "cell_type": "code",
   "execution_count": 41,
   "metadata": {},
   "outputs": [],
   "source": [
    "ttest_polarity = ttest_ind(polarity_modi, polarity_rahul)"
   ]
  },
  {
   "cell_type": "code",
   "execution_count": 42,
   "metadata": {},
   "outputs": [
    {
     "data": {
      "text/plain": [
       "TtestResult(statistic=9.424881864986473, pvalue=4.528536915237328e-21, df=39947.0)"
      ]
     },
     "execution_count": 42,
     "metadata": {},
     "output_type": "execute_result"
    }
   ],
   "source": [
    "ttest_polarity"
   ]
  },
  {
   "cell_type": "markdown",
   "metadata": {},
   "source": [
    "# Prediction - Sentiment score (removing neutrals)"
   ]
  },
  {
   "cell_type": "code",
   "execution_count": 43,
   "metadata": {},
   "outputs": [
    {
     "data": {
      "text/html": [
       "<div>\n",
       "<style scoped>\n",
       "    .dataframe tbody tr th:only-of-type {\n",
       "        vertical-align: middle;\n",
       "    }\n",
       "\n",
       "    .dataframe tbody tr th {\n",
       "        vertical-align: top;\n",
       "    }\n",
       "\n",
       "    .dataframe thead th {\n",
       "        text-align: right;\n",
       "    }\n",
       "</style>\n",
       "<table border=\"1\" class=\"dataframe\">\n",
       "  <thead>\n",
       "    <tr style=\"text-align: right;\">\n",
       "      <th></th>\n",
       "      <th>Unnamed: 0</th>\n",
       "      <th>User</th>\n",
       "      <th>Tweet</th>\n",
       "      <th>Polarity</th>\n",
       "      <th>Label</th>\n",
       "    </tr>\n",
       "  </thead>\n",
       "  <tbody>\n",
       "    <tr>\n",
       "      <th>6</th>\n",
       "      <td>6</td>\n",
       "      <td>Mdsr20351488</td>\n",
       "      <td>After 5yrs of Modi 🙁\\n\\n-SC vs SC\\n-EC vs EC\\n...</td>\n",
       "      <td>0.0</td>\n",
       "      <td>0</td>\n",
       "    </tr>\n",
       "    <tr>\n",
       "      <th>9</th>\n",
       "      <td>9</td>\n",
       "      <td>TheShobhitAzad</td>\n",
       "      <td>#AzadPrediction\\n#LokSabhaElections2019 \\n\\nBJ...</td>\n",
       "      <td>0.0</td>\n",
       "      <td>0</td>\n",
       "    </tr>\n",
       "    <tr>\n",
       "      <th>10</th>\n",
       "      <td>10</td>\n",
       "      <td>sheikh541</td>\n",
       "      <td>#BJP was renamed as Safroon Party then again i...</td>\n",
       "      <td>0.0</td>\n",
       "      <td>0</td>\n",
       "    </tr>\n",
       "    <tr>\n",
       "      <th>20</th>\n",
       "      <td>20</td>\n",
       "      <td>UdayiCODE</td>\n",
       "      <td>I am seeing 3 Options for PM this time #Modi #...</td>\n",
       "      <td>0.0</td>\n",
       "      <td>0</td>\n",
       "    </tr>\n",
       "    <tr>\n",
       "      <th>21</th>\n",
       "      <td>21</td>\n",
       "      <td>SandipGhose</td>\n",
       "      <td>@thakkar_sameet @BDUTT @surjitbhalla 4/n smack...</td>\n",
       "      <td>0.0</td>\n",
       "      <td>0</td>\n",
       "    </tr>\n",
       "    <tr>\n",
       "      <th>...</th>\n",
       "      <td>...</td>\n",
       "      <td>...</td>\n",
       "      <td>...</td>\n",
       "      <td>...</td>\n",
       "      <td>...</td>\n",
       "    </tr>\n",
       "    <tr>\n",
       "      <th>25674</th>\n",
       "      <td>25674</td>\n",
       "      <td>CrazySatire</td>\n",
       "      <td>Poll:\\nWhich province (s) of Pakistan after di...</td>\n",
       "      <td>0.0</td>\n",
       "      <td>0</td>\n",
       "    </tr>\n",
       "    <tr>\n",
       "      <th>25676</th>\n",
       "      <td>25676</td>\n",
       "      <td>SunjayJK</td>\n",
       "      <td>@IASassociation MT:We stand by our @IPS_Associ...</td>\n",
       "      <td>0.0</td>\n",
       "      <td>0</td>\n",
       "    </tr>\n",
       "    <tr>\n",
       "      <th>25682</th>\n",
       "      <td>25682</td>\n",
       "      <td>CrazySatire</td>\n",
       "      <td>No one calling that ‘BJP is communal’ in this ...</td>\n",
       "      <td>0.0</td>\n",
       "      <td>0</td>\n",
       "    </tr>\n",
       "    <tr>\n",
       "      <th>25683</th>\n",
       "      <td>25683</td>\n",
       "      <td>shv_indian</td>\n",
       "      <td>#1DDrive #ModiSpeaksToNews18 #LokSabhaElection...</td>\n",
       "      <td>0.0</td>\n",
       "      <td>0</td>\n",
       "    </tr>\n",
       "    <tr>\n",
       "      <th>25686</th>\n",
       "      <td>25686</td>\n",
       "      <td>SONUPINKOO</td>\n",
       "      <td>On this 23rd March (Pakistan Day), I Urge all ...</td>\n",
       "      <td>0.0</td>\n",
       "      <td>0</td>\n",
       "    </tr>\n",
       "  </tbody>\n",
       "</table>\n",
       "<p>8206 rows × 5 columns</p>\n",
       "</div>"
      ],
      "text/plain": [
       "       Unnamed: 0            User  \\\n",
       "6               6    Mdsr20351488   \n",
       "9               9  TheShobhitAzad   \n",
       "10             10       sheikh541   \n",
       "20             20       UdayiCODE   \n",
       "21             21     SandipGhose   \n",
       "...           ...             ...   \n",
       "25674       25674     CrazySatire   \n",
       "25676       25676        SunjayJK   \n",
       "25682       25682     CrazySatire   \n",
       "25683       25683      shv_indian   \n",
       "25686       25686      SONUPINKOO   \n",
       "\n",
       "                                                   Tweet  Polarity Label  \n",
       "6      After 5yrs of Modi 🙁\\n\\n-SC vs SC\\n-EC vs EC\\n...       0.0     0  \n",
       "9      #AzadPrediction\\n#LokSabhaElections2019 \\n\\nBJ...       0.0     0  \n",
       "10     #BJP was renamed as Safroon Party then again i...       0.0     0  \n",
       "20     I am seeing 3 Options for PM this time #Modi #...       0.0     0  \n",
       "21     @thakkar_sameet @BDUTT @surjitbhalla 4/n smack...       0.0     0  \n",
       "...                                                  ...       ...   ...  \n",
       "25674  Poll:\\nWhich province (s) of Pakistan after di...       0.0     0  \n",
       "25676  @IASassociation MT:We stand by our @IPS_Associ...       0.0     0  \n",
       "25682  No one calling that ‘BJP is communal’ in this ...       0.0     0  \n",
       "25683  #1DDrive #ModiSpeaksToNews18 #LokSabhaElection...       0.0     0  \n",
       "25686  On this 23rd March (Pakistan Day), I Urge all ...       0.0     0  \n",
       "\n",
       "[8206 rows x 5 columns]"
      ]
     },
     "execution_count": 43,
     "metadata": {},
     "output_type": "execute_result"
    }
   ],
   "source": [
    "neutral_modi = modi[modi['Label'] == '0']\n",
    "neutral_modi"
   ]
  },
  {
   "cell_type": "code",
   "execution_count": 44,
   "metadata": {},
   "outputs": [],
   "source": [
    "remove_neutral_modi = modi['Polarity'].isin(neutral_modi['Polarity'])\n",
    "modi.drop(modi[remove_neutral_modi].index,inplace=True)"
   ]
  },
  {
   "cell_type": "code",
   "execution_count": 45,
   "metadata": {},
   "outputs": [
    {
     "name": "stdout",
     "output_type": "stream",
     "text": [
      "(8206, 5)\n",
      "(17482, 5)\n"
     ]
    }
   ],
   "source": [
    "print(neutral_modi.shape)\n",
    "print(modi.shape)"
   ]
  },
  {
   "cell_type": "code",
   "execution_count": 46,
   "metadata": {},
   "outputs": [
    {
     "data": {
      "text/html": [
       "<div>\n",
       "<style scoped>\n",
       "    .dataframe tbody tr th:only-of-type {\n",
       "        vertical-align: middle;\n",
       "    }\n",
       "\n",
       "    .dataframe tbody tr th {\n",
       "        vertical-align: top;\n",
       "    }\n",
       "\n",
       "    .dataframe thead th {\n",
       "        text-align: right;\n",
       "    }\n",
       "</style>\n",
       "<table border=\"1\" class=\"dataframe\">\n",
       "  <thead>\n",
       "    <tr style=\"text-align: right;\">\n",
       "      <th></th>\n",
       "      <th>Unnamed: 0</th>\n",
       "      <th>User</th>\n",
       "      <th>Tweet</th>\n",
       "      <th>Polarity</th>\n",
       "      <th>Label</th>\n",
       "    </tr>\n",
       "  </thead>\n",
       "  <tbody>\n",
       "    <tr>\n",
       "      <th>1</th>\n",
       "      <td>1</td>\n",
       "      <td>drnitinchaube</td>\n",
       "      <td>Congrats for the change #australiavotes2019 an...</td>\n",
       "      <td>0.0</td>\n",
       "      <td>0</td>\n",
       "    </tr>\n",
       "    <tr>\n",
       "      <th>2</th>\n",
       "      <td>2</td>\n",
       "      <td>mrvivek07</td>\n",
       "      <td>Peopel Say “Govt Ne 70 Years Kya kiya”.\\nUnse ...</td>\n",
       "      <td>0.0</td>\n",
       "      <td>0</td>\n",
       "    </tr>\n",
       "    <tr>\n",
       "      <th>6</th>\n",
       "      <td>6</td>\n",
       "      <td>SandipGhose</td>\n",
       "      <td>@thakkar_sameet @BDUTT @surjitbhalla 4/n smack...</td>\n",
       "      <td>0.0</td>\n",
       "      <td>0</td>\n",
       "    </tr>\n",
       "    <tr>\n",
       "      <th>8</th>\n",
       "      <td>8</td>\n",
       "      <td>usman_majid1</td>\n",
       "      <td>BJP will be nowhere in India after May 23. BJP...</td>\n",
       "      <td>0.0</td>\n",
       "      <td>0</td>\n",
       "    </tr>\n",
       "    <tr>\n",
       "      <th>12</th>\n",
       "      <td>12</td>\n",
       "      <td>mayursejpal</td>\n",
       "      <td>My Predictions\\n\\nBJP+NDA = 300 to 310\\nCongre...</td>\n",
       "      <td>0.0</td>\n",
       "      <td>0</td>\n",
       "    </tr>\n",
       "    <tr>\n",
       "      <th>...</th>\n",
       "      <td>...</td>\n",
       "      <td>...</td>\n",
       "      <td>...</td>\n",
       "      <td>...</td>\n",
       "      <td>...</td>\n",
       "    </tr>\n",
       "    <tr>\n",
       "      <th>14238</th>\n",
       "      <td>14238</td>\n",
       "      <td>vishantsarkar</td>\n",
       "      <td>@RahulGandhi The year has come 2019 when Natio...</td>\n",
       "      <td>0.0</td>\n",
       "      <td>0</td>\n",
       "    </tr>\n",
       "    <tr>\n",
       "      <th>14240</th>\n",
       "      <td>14240</td>\n",
       "      <td>CrazySatire</td>\n",
       "      <td>@nmannathukkaren @ShashiTharoor Modi’s fate wi...</td>\n",
       "      <td>0.0</td>\n",
       "      <td>0</td>\n",
       "    </tr>\n",
       "    <tr>\n",
       "      <th>14252</th>\n",
       "      <td>14252</td>\n",
       "      <td>CrazySatire</td>\n",
       "      <td>No one calling that ‘BJP is communal’ in this ...</td>\n",
       "      <td>0.0</td>\n",
       "      <td>0</td>\n",
       "    </tr>\n",
       "    <tr>\n",
       "      <th>14255</th>\n",
       "      <td>14255</td>\n",
       "      <td>SONUPINKOO</td>\n",
       "      <td>I need Answer from @INCIndia @RahulGandhi @_Ma...</td>\n",
       "      <td>0.0</td>\n",
       "      <td>0</td>\n",
       "    </tr>\n",
       "    <tr>\n",
       "      <th>14256</th>\n",
       "      <td>14256</td>\n",
       "      <td>SunjayJK</td>\n",
       "      <td>@quizzicalguy In this #LokSabhaElections2019, ...</td>\n",
       "      <td>0.0</td>\n",
       "      <td>0</td>\n",
       "    </tr>\n",
       "  </tbody>\n",
       "</table>\n",
       "<p>4894 rows × 5 columns</p>\n",
       "</div>"
      ],
      "text/plain": [
       "       Unnamed: 0           User  \\\n",
       "1               1  drnitinchaube   \n",
       "2               2      mrvivek07   \n",
       "6               6    SandipGhose   \n",
       "8               8   usman_majid1   \n",
       "12             12    mayursejpal   \n",
       "...           ...            ...   \n",
       "14238       14238  vishantsarkar   \n",
       "14240       14240    CrazySatire   \n",
       "14252       14252    CrazySatire   \n",
       "14255       14255     SONUPINKOO   \n",
       "14256       14256       SunjayJK   \n",
       "\n",
       "                                                   Tweet  Polarity Label  \n",
       "1      Congrats for the change #australiavotes2019 an...       0.0     0  \n",
       "2      Peopel Say “Govt Ne 70 Years Kya kiya”.\\nUnse ...       0.0     0  \n",
       "6      @thakkar_sameet @BDUTT @surjitbhalla 4/n smack...       0.0     0  \n",
       "8      BJP will be nowhere in India after May 23. BJP...       0.0     0  \n",
       "12     My Predictions\\n\\nBJP+NDA = 300 to 310\\nCongre...       0.0     0  \n",
       "...                                                  ...       ...   ...  \n",
       "14238  @RahulGandhi The year has come 2019 when Natio...       0.0     0  \n",
       "14240  @nmannathukkaren @ShashiTharoor Modi’s fate wi...       0.0     0  \n",
       "14252  No one calling that ‘BJP is communal’ in this ...       0.0     0  \n",
       "14255  I need Answer from @INCIndia @RahulGandhi @_Ma...       0.0     0  \n",
       "14256  @quizzicalguy In this #LokSabhaElections2019, ...       0.0     0  \n",
       "\n",
       "[4894 rows x 5 columns]"
      ]
     },
     "execution_count": 46,
     "metadata": {},
     "output_type": "execute_result"
    }
   ],
   "source": [
    "neutral_rahul = rahul[rahul['Label'] == '0']\n",
    "neutral_rahul"
   ]
  },
  {
   "cell_type": "code",
   "execution_count": 47,
   "metadata": {},
   "outputs": [],
   "source": [
    "remove_neutral_rahul = rahul['Polarity'].isin(neutral_rahul['Polarity'])\n",
    "rahul.drop(rahul[remove_neutral_rahul].index,inplace=True)"
   ]
  },
  {
   "cell_type": "code",
   "execution_count": 48,
   "metadata": {},
   "outputs": [
    {
     "name": "stdout",
     "output_type": "stream",
     "text": [
      "(4894, 5)\n",
      "(9367, 5)\n"
     ]
    }
   ],
   "source": [
    "print(neutral_rahul.shape)\n",
    "print(rahul.shape)"
   ]
  },
  {
   "cell_type": "code",
   "execution_count": 49,
   "metadata": {},
   "outputs": [
    {
     "name": "stdout",
     "output_type": "stream",
     "text": [
      "(17482, 5)\n",
      "(9367, 5)\n"
     ]
    }
   ],
   "source": [
    "print(modi.shape)\n",
    "print(rahul.shape)"
   ]
  },
  {
   "cell_type": "code",
   "execution_count": 50,
   "metadata": {},
   "outputs": [
    {
     "name": "stdout",
     "output_type": "stream",
     "text": [
      "(9001, 5)\n"
     ]
    }
   ],
   "source": [
    "# modi\n",
    "\n",
    "np.random.seed(10)\n",
    "remove_n = 8481\n",
    "drop_indices = np.random.choice(modi.index, remove_n, replace=False)\n",
    "df_modi = modi.drop(drop_indices)\n",
    "print(df_modi.shape)"
   ]
  },
  {
   "cell_type": "code",
   "execution_count": 51,
   "metadata": {},
   "outputs": [
    {
     "name": "stdout",
     "output_type": "stream",
     "text": [
      "(9000, 5)\n"
     ]
    }
   ],
   "source": [
    "# rahul\n",
    "\n",
    "np.random.seed(10)\n",
    "remove_n = 367\n",
    "drop_indices = np.random.choice(rahul.index, remove_n, replace=False)\n",
    "df_rahul = rahul.drop(drop_indices)\n",
    "print(df_rahul.shape)"
   ]
  },
  {
   "cell_type": "code",
   "execution_count": 52,
   "metadata": {},
   "outputs": [
    {
     "name": "stdout",
     "output_type": "stream",
     "text": [
      "(9001, 5)\n",
      "(9000, 5)\n"
     ]
    }
   ],
   "source": [
    "print(df_modi.shape)\n",
    "print(df_rahul.shape)"
   ]
  },
  {
   "cell_type": "code",
   "execution_count": 53,
   "metadata": {},
   "outputs": [],
   "source": [
    "# Normality Assumption\n",
    "\n",
    "polarity_df_modi = df_modi['Polarity']\n",
    "polarity_df_rahul = df_rahul['Polarity']"
   ]
  },
  {
   "cell_type": "code",
   "execution_count": 54,
   "metadata": {},
   "outputs": [
    {
     "data": {
      "image/png": "[encoded data removed]",
      "text/plain": [
       "<Figure size 640x480 with 1 Axes>"
      ]
     },
     "metadata": {},
     "output_type": "display_data"
    }
   ],
   "source": [
    "# Plot histogram (polarity_df_modi)\n",
    "\n",
    "sns.histplot(polarity_df_modi, kde=True)\n",
    "plt.title('Histogram of Sentiment Polarity (Modi)')\n",
    "plt.xlabel('Sentiment Polarity')\n",
    "plt.ylabel('Frequency')\n",
    "plt.show()\n"
   ]
  },
  {
   "cell_type": "code",
   "execution_count": 55,
   "metadata": {},
   "outputs": [
    {
     "data": {
      "image/png": "[encoded data removed]",
      "text/plain": [
       "<Figure size 640x480 with 1 Axes>"
      ]
     },
     "metadata": {},
     "output_type": "display_data"
    }
   ],
   "source": [
    "# Plot histogram (polarity_df_rahul)\n",
    "\n",
    "sns.histplot(polarity_df_rahul, kde=True)\n",
    "plt.title('Histogram of Sentiment Polarity (Rahul)')\n",
    "plt.xlabel('Sentiment Polarity')\n",
    "plt.ylabel('Frequency')\n",
    "plt.show()\n"
   ]
  },
  {
   "cell_type": "code",
   "execution_count": 56,
   "metadata": {},
   "outputs": [
    {
     "name": "stdout",
     "output_type": "stream",
     "text": [
      "TtestResult(statistic=7.071767261143924, pvalue=1.5858795889628314e-12, df=17999.0)\n"
     ]
    }
   ],
   "source": [
    "ttest_df_polarity = ttest_ind(polarity_df_modi, polarity_df_rahul)\n",
    "print(ttest_df_polarity)"
   ]
  }
 ],
 "metadata": {
  "kaggle": {
   "accelerator": "none",
   "dataSources": [
    {
     "datasetId": 3409287,
     "sourceId": 5940146,
     "sourceType": "datasetVersion"
    }
   ],
   "dockerImageVersionId": 30698,
   "isGpuEnabled": false,
   "isInternetEnabled": false,
   "language": "python",
   "sourceType": "notebook"
  },
  "kernelspec": {
   "display_name": "Python 3 (ipykernel)",
   "language": "python",
   "name": "python3"
  },
  "language_info": {
   "codemirror_mode": {
    "name": "ipython",
    "version": 3
   },
   "file_extension": ".py",
   "mimetype": "text/x-python",
   "name": "python",
   "nbconvert_exporter": "python",
   "pygments_lexer": "ipython3",
   "version": "3.12.7"
  },
  "varInspector": {
   "cols": {
    "lenName": 16,
    "lenType": 16,
    "lenVar": 40
   },
   "kernels_config": {
    "python": {
     "delete_cmd_postfix": "",
     "delete_cmd_prefix": "del ",
     "library": "var_list.py",
     "varRefreshCmd": "print(var_dic_list())"
    },
    "r": {
     "delete_cmd_postfix": ") ",
     "delete_cmd_prefix": "rm(",
     "library": "var_list.r",
     "varRefreshCmd": "cat(var_dic_list()) "
    }
   },
   "types_to_exclude": [
    "module",
    "function",
    "builtin_function_or_method",
    "instance",
    "_Feature"
   ],
   "window_display": false
  }
 },
 "nbformat": 4,
 "nbformat_minor": 4
}
